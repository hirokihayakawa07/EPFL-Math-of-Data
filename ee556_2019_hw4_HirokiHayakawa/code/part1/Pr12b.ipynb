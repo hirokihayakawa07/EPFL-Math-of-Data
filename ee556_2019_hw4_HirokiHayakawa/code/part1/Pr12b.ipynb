{
 "cells": [
  {
   "cell_type": "code",
   "execution_count": 12,
   "metadata": {},
   "outputs": [],
   "source": [
    "import scipy.io\n",
    "import numpy as np\n",
    "from scipy.sparse import csr_matrix\n",
    "from scipy.sparse import linalg\n",
    "from time import time"
   ]
  },
  {
   "cell_type": "code",
   "execution_count": 21,
   "metadata": {},
   "outputs": [],
   "source": [
    "def sharpNuc(Z, kappa):\n",
    "    #SHARPNUC This function implements the sharp operator for the nuclear norm ball constraint. .\n",
    "    \n",
    "    # Implement sharp operator here!\n",
    "    u, s, vt = linalg.svds(Z, k=1)\n",
    "        \n",
    "    return -kappa*u@vt"
   ]
  },
  {
   "cell_type": "code",
   "execution_count": 28,
   "metadata": {},
   "outputs": [
    {
     "name": "stdout",
     "output_type": "stream",
     "text": [
      "sharp of 100k data takes 0.04544949531555176 sec\n"
     ]
    }
   ],
   "source": [
    "data = scipy.io.loadmat('./dataset/ml-100k/ub_base')  # load 100k dataset\n",
    "\n",
    "Rating = data['Rating'].flatten()\n",
    "UserID = data['UserID'].flatten() - 1  # Python indexing starts from 0 whereas Matlab from 1\n",
    "MovID = data['MovID'].flatten() - 1    # Python indexing starts from 0 whereas Matlab from 1\n",
    "\n",
    "nM = np.amax(data['MovID'])\n",
    "nU = np.amax(data['UserID'])\n",
    "\n",
    "Z = csr_matrix((Rating, (MovID, UserID)),shape=(nM, nU),dtype=float)\n",
    "kappa = 5000\n",
    "\n",
    "tstart = time()\n",
    "Z_proj = sharpNuc(Z, kappa)\n",
    "elapsed = time() - tstart\n",
    "print('sharp of 100k data takes {} sec'.format(elapsed))"
   ]
  },
  {
   "cell_type": "code",
   "execution_count": 29,
   "metadata": {
    "collapsed": true,
    "jupyter": {
     "outputs_hidden": true,
     "source_hidden": true
    }
   },
   "outputs": [
    {
     "data": {
      "text/plain": [
       "array([5, 3, 4, 3, 3, 5, 4, 1, 5, 3, 2, 5, 5, 5, 5, 5, 4, 5, 4, 1],\n",
       "      dtype=uint8)"
      ]
     },
     "execution_count": 29,
     "metadata": {},
     "output_type": "execute_result"
    }
   ],
   "source": [
    "Rating[:20]"
   ]
  },
  {
   "cell_type": "code",
   "execution_count": 30,
   "metadata": {
    "collapsed": true,
    "jupyter": {
     "outputs_hidden": true,
     "source_hidden": true
    }
   },
   "outputs": [
    {
     "data": {
      "text/plain": [
       "array([-31.84960272, -12.19246172,  -6.69408692, -20.24625317,\n",
       "        -7.5317583 ,  -1.65817068, -27.54142438, -21.66204169,\n",
       "       -21.46827497,  -7.20190624, -22.47228126, -27.02582488,\n",
       "       -13.09306912, -12.509695  , -18.86603159,  -2.6786904 ,\n",
       "        -7.55149913,  -0.87429869,  -4.13837519,  -5.16173825])"
      ]
     },
     "execution_count": 30,
     "metadata": {},
     "output_type": "execute_result"
    }
   ],
   "source": [
    "Z_proj[0:20,0]"
   ]
  },
  {
   "cell_type": "code",
   "execution_count": 31,
   "metadata": {},
   "outputs": [
    {
     "name": "stdout",
     "output_type": "stream",
     "text": [
      "sharp of 1M data takes 0.369107723236084 sec\n"
     ]
    }
   ],
   "source": [
    "# NOTE: This one can take few minutes!\n",
    "data = scipy.io.loadmat('./dataset/ml-1m/ml1m_base')  # load 1M dataset\n",
    "\n",
    "Rating = data['Rating'].flatten()\n",
    "UserID = data['UserID'].flatten() - 1  # Python indexing starts from 0 whereas Matlab from 1\n",
    "MovID = data['MovID'].flatten() - 1    # Python indexing starts from 0 whereas Matlab from 1\n",
    "\n",
    "nM = np.amax(data['MovID'])\n",
    "nU = np.amax(data['UserID'])\n",
    "\n",
    "Z = csr_matrix((Rating, (MovID, UserID)),shape=(nM, nU),dtype=float)\n",
    "kappa = 5000\n",
    "\n",
    "tstart = time()\n",
    "Z_proj = sharpNuc(Z, kappa)\n",
    "elapsed = time() - tstart\n",
    "print('sharp of 1M data takes {} sec'.format(elapsed))"
   ]
  },
  {
   "cell_type": "code",
   "execution_count": 32,
   "metadata": {
    "collapsed": true,
    "jupyter": {
     "outputs_hidden": true,
     "source_hidden": true
    }
   },
   "outputs": [
    {
     "data": {
      "text/plain": [
       "array([5, 3, 3, 4, 5, 3, 5, 5, 4, 4, 5, 4, 4, 5, 4, 3, 4, 5, 4, 3],\n",
       "      dtype=uint8)"
      ]
     },
     "execution_count": 32,
     "metadata": {},
     "output_type": "execute_result"
    }
   ],
   "source": [
    "Rating[:20]"
   ]
  },
  {
   "cell_type": "code",
   "execution_count": 33,
   "metadata": {
    "collapsed": true,
    "jupyter": {
     "outputs_hidden": true,
     "source_hidden": true
    }
   },
   "outputs": [
    {
     "data": {
      "text/plain": [
       "array([-1.74490371, -0.59442132, -0.34728259, -0.12315799, -0.24135477,\n",
       "       -0.91886848, -0.40419198, -0.05231632, -0.08135042, -0.79167959,\n",
       "       -0.89482339, -0.11179658, -0.08815798, -0.17709768, -0.10574404,\n",
       "       -0.68334762, -0.69126119, -0.18484565, -0.25043436, -0.13396691])"
      ]
     },
     "execution_count": 33,
     "metadata": {},
     "output_type": "execute_result"
    }
   ],
   "source": [
    "Z_proj[0:20,0]"
   ]
  },
  {
   "cell_type": "code",
   "execution_count": null,
   "metadata": {},
   "outputs": [],
   "source": []
  }
 ],
 "metadata": {
  "anaconda-cloud": {},
  "kernelspec": {
   "display_name": "Python 3",
   "language": "python",
   "name": "python3"
  },
  "language_info": {
   "codemirror_mode": {
    "name": "ipython",
    "version": 3
   },
   "file_extension": ".py",
   "mimetype": "text/x-python",
   "name": "python",
   "nbconvert_exporter": "python",
   "pygments_lexer": "ipython3",
   "version": "3.7.4"
  }
 },
 "nbformat": 4,
 "nbformat_minor": 4
}
