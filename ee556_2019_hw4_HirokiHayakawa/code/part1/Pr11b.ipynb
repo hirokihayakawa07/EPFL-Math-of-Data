{
 "cells": [
  {
   "cell_type": "code",
   "execution_count": 29,
   "metadata": {},
   "outputs": [],
   "source": [
    "import scipy.io\n",
    "import numpy as np\n",
    "from scipy.sparse import csr_matrix\n",
    "from projL1 import projL1\n",
    "from time import time"
   ]
  },
  {
   "cell_type": "code",
   "execution_count": 30,
   "metadata": {},
   "outputs": [],
   "source": [
    "def projNuc(Z, kappa):\n",
    "    #PROJNUC This function implements the projection onto nuclear norm ball.\n",
    "    \n",
    "    # Implement projection operator here!\n",
    "    u, s, vh = np.linalg.svd(Z, full_matrices=False)\n",
    "    s_l1 = projL1(s, kappa)\n",
    "    \n",
    "    return u@np.diag(s_l1)@vh"
   ]
  },
  {
   "cell_type": "code",
   "execution_count": 47,
   "metadata": {},
   "outputs": [
    {
     "name": "stdout",
     "output_type": "stream",
     "text": [
      "proj for 100k data takes 0.4889242649078369 sec\n"
     ]
    }
   ],
   "source": [
    "data = scipy.io.loadmat('./dataset/ml-100k/ub_base')  # load 100k dataset\n",
    "\n",
    "Rating = data['Rating'].flatten()\n",
    "UserID = data['UserID'].flatten() - 1  # Python indexing starts from 0 whereas Matlab from 1\n",
    "MovID = data['MovID'].flatten() - 1    # Python indexing starts from 0 whereas Matlab from 1\n",
    "\n",
    "nM = np.amax(data['MovID'])\n",
    "nU = np.amax(data['UserID'])\n",
    "\n",
    "Z = csr_matrix((Rating, (MovID, UserID)),shape=(nM, nU),dtype=float).toarray()\n",
    "kappa = 5000 #5000\n",
    "\n",
    "tstart = time()\n",
    "Z_proj = projNuc(Z, kappa)\n",
    "elapsed = time() - tstart\n",
    "print('proj for 100k data takes {} sec'.format(elapsed))"
   ]
  },
  {
   "cell_type": "code",
   "execution_count": 48,
   "metadata": {
    "collapsed": true,
    "jupyter": {
     "outputs_hidden": true,
     "source_hidden": true
    }
   },
   "outputs": [
    {
     "data": {
      "text/plain": [
       "array([4.57896269, 2.28692188, 1.95500422, 2.83015962, 1.45639257,\n",
       "       1.46208011, 4.06488714, 2.1232902 , 3.4456202 , 1.93636815,\n",
       "       2.29905439, 4.19155123, 3.61270109, 3.261568  , 3.17096125,\n",
       "       2.03031605, 1.00282556, 0.9777876 , 2.68664031, 2.3901721 ])"
      ]
     },
     "execution_count": 48,
     "metadata": {},
     "output_type": "execute_result"
    }
   ],
   "source": [
    "Z_proj[0:20,0]#-Rating[:20]"
   ]
  },
  {
   "cell_type": "code",
   "execution_count": 5,
   "metadata": {},
   "outputs": [
    {
     "name": "stdout",
     "output_type": "stream",
     "text": [
      "proj for 1M data takes 41.82280373573303 sec\n"
     ]
    }
   ],
   "source": [
    "# NOTE: This one can take few minutes!\n",
    "data = scipy.io.loadmat('./dataset/ml-1m/ml1m_base')  # load 1M dataset\n",
    "\n",
    "Rating = data['Rating'].flatten()\n",
    "UserID = data['UserID'].flatten() - 1  # Python indexing starts from 0 whereas Matlab from 1\n",
    "MovID = data['MovID'].flatten() - 1    # Python indexing starts from 0 whereas Matlab from 1\n",
    "\n",
    "nM = np.amax(data['MovID'])\n",
    "nU = np.amax(data['UserID'])\n",
    "\n",
    "Z = csr_matrix((Rating, (MovID, UserID)),shape=(nM, nU),dtype=float).toarray()\n",
    "kappa = 5000\n",
    "\n",
    "tstart = time()\n",
    "Z_proj = projNuc(Z, kappa)\n",
    "elapsed = time() - tstart\n",
    "print('proj for 1M data takes {} sec'.format(elapsed))"
   ]
  },
  {
   "cell_type": "code",
   "execution_count": 6,
   "metadata": {
    "collapsed": true,
    "jupyter": {
     "outputs_hidden": true,
     "source_hidden": true
    }
   },
   "outputs": [
    {
     "data": {
      "text/plain": [
       "array([[ 1.82324537e+00,  9.65689972e-01,  9.70444810e-01, ...,\n",
       "         3.50175334e-01,  1.07139049e+00,  1.68496930e+00],\n",
       "       [ 3.08464114e-01,  2.59729966e-01,  2.67246064e-01, ...,\n",
       "         2.67766304e-02,  2.10915611e-01, -2.70079909e-02],\n",
       "       [ 7.07435878e-02,  1.53593983e-01,  1.00178301e-01, ...,\n",
       "         4.46633966e-03,  1.04055868e-01, -1.45571074e-01],\n",
       "       ...,\n",
       "       [ 3.02602494e-03,  1.30904611e-02, -1.27481384e-02, ...,\n",
       "        -5.55886832e-03,  2.03766891e-02,  1.04262425e-01],\n",
       "       [ 8.29825343e-03,  4.65417082e-03, -6.81981330e-03, ...,\n",
       "        -1.48917089e-03,  5.08354843e-04,  9.27585745e-02],\n",
       "       [ 4.78845686e-02,  1.37568060e-01, -3.14723762e-02, ...,\n",
       "        -2.17695947e-02, -4.55672749e-02,  4.26821198e-01]])"
      ]
     },
     "execution_count": 6,
     "metadata": {},
     "output_type": "execute_result"
    }
   ],
   "source": [
    "Z_proj"
   ]
  },
  {
   "cell_type": "code",
   "execution_count": null,
   "metadata": {},
   "outputs": [],
   "source": []
  }
 ],
 "metadata": {
  "anaconda-cloud": {},
  "kernelspec": {
   "display_name": "Python 3",
   "language": "python",
   "name": "python3"
  },
  "language_info": {
   "codemirror_mode": {
    "name": "ipython",
    "version": 3
   },
   "file_extension": ".py",
   "mimetype": "text/x-python",
   "name": "python",
   "nbconvert_exporter": "python",
   "pygments_lexer": "ipython3",
   "version": "3.7.4"
  }
 },
 "nbformat": 4,
 "nbformat_minor": 4
}
